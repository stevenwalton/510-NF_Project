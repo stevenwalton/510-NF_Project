{
 "cells": [
  {
   "cell_type": "code",
   "execution_count": 7,
   "metadata": {},
   "outputs": [],
   "source": [
    "import torch\n",
    "from torch import nn\n",
    "from torch import optim\n",
    "from torchvision import transforms\n",
    "from torchvision import datasets\n",
    "\n",
    "device = torch.device(\"cuda:1\" if torch.cuda.is_available() else \"cpu\")\n",
    "numworkers = 4\n",
    "batch_size=10"
   ]
  },
  {
   "cell_type": "code",
   "execution_count": 10,
   "metadata": {},
   "outputs": [
    {
     "name": "stdout",
     "output_type": "stream",
     "text": [
      "Downloading http://yann.lecun.com/exdb/mnist/train-images-idx3-ubyte.gz to ../datasets/MNIST/raw/train-images-idx3-ubyte.gz\n"
     ]
    },
    {
     "name": "stderr",
     "output_type": "stream",
     "text": [
      "100.1%"
     ]
    },
    {
     "name": "stdout",
     "output_type": "stream",
     "text": [
      "Extracting ../datasets/MNIST/raw/train-images-idx3-ubyte.gz to ../datasets/MNIST/raw\n"
     ]
    },
    {
     "name": "stderr",
     "output_type": "stream",
     "text": [
      "28.4%"
     ]
    },
    {
     "name": "stdout",
     "output_type": "stream",
     "text": [
      "Downloading http://yann.lecun.com/exdb/mnist/train-labels-idx1-ubyte.gz to ../datasets/MNIST/raw/train-labels-idx1-ubyte.gz\n"
     ]
    },
    {
     "name": "stderr",
     "output_type": "stream",
     "text": [
      "0.5%5%"
     ]
    },
    {
     "name": "stdout",
     "output_type": "stream",
     "text": [
      "Extracting ../datasets/MNIST/raw/train-labels-idx1-ubyte.gz to ../datasets/MNIST/raw\n",
      "Downloading http://yann.lecun.com/exdb/mnist/t10k-images-idx3-ubyte.gz to ../datasets/MNIST/raw/t10k-images-idx3-ubyte.gz\n"
     ]
    },
    {
     "name": "stderr",
     "output_type": "stream",
     "text": [
      "100.4%"
     ]
    },
    {
     "name": "stdout",
     "output_type": "stream",
     "text": [
      "Extracting ../datasets/MNIST/raw/t10k-images-idx3-ubyte.gz to ../datasets/MNIST/raw\n",
      "Downloading http://yann.lecun.com/exdb/mnist/t10k-labels-idx1-ubyte.gz to ../datasets/MNIST/raw/t10k-labels-idx1-ubyte.gz\n"
     ]
    },
    {
     "name": "stderr",
     "output_type": "stream",
     "text": [
      "180.4%"
     ]
    },
    {
     "name": "stdout",
     "output_type": "stream",
     "text": [
      "Extracting ../datasets/MNIST/raw/t10k-labels-idx1-ubyte.gz to ../datasets/MNIST/raw\n",
      "Processing...\n",
      "Done!\n"
     ]
    },
    {
     "name": "stderr",
     "output_type": "stream",
     "text": [
      "/pytorch/torch/csrc/utils/tensor_numpy.cpp:141: UserWarning: The given NumPy array is not writeable, and PyTorch does not support non-writeable tensors. This means you can write to the underlying (supposedly non-writeable) NumPy array using the tensor. You may want to copy the array to protect its data or make it writeable before converting it to a tensor. This type of warning will be suppressed for the rest of this program.\n"
     ]
    }
   ],
   "source": [
    "imagenet_data = datasets.MNIST('../datasets/', download=True)\n",
    "data_loader = torch.utils.data.DataLoader(imagenet_data,\n",
    "                                          batch_size=batch_size,\n",
    "                                          shuffle=True,\n",
    "                                          num_workers=numworkers)"
   ]
  },
  {
   "cell_type": "code",
   "execution_count": 11,
   "metadata": {},
   "outputs": [],
   "source": [
    "def LinearBlock(_in,_out,reg=True, inplace=True):\n",
    "    layers = []\n",
    "    layers.append(nn.Linear(_in,_out))\n",
    "    if reg:\n",
    "        layers.append(nn.ReLU(inplace=inplace))\n",
    "    return layers"
   ]
  },
  {
   "cell_type": "code",
   "execution_count": 13,
   "metadata": {},
   "outputs": [],
   "source": [
    "class AdditiveCoupling(nn.Module):\n",
    "    '''\n",
    "    Single Layer to be used in NICE. For MNIST we use 5 of these that are rectified.\n",
    "    '''\n",
    "    def __init__(self, _in, _out, numlayers=5):\n",
    "        super(AdditiveCoupling,self).__init__()\n",
    "        \n",
    "        relu = nn.ReLU(inplace=True)\n",
    "\n",
    "        self.inputLayer = nn.Sequential(relu(nn.Linear(_in,1000)))\n",
    "        self.hiddenLayer = nn.Sequential(relu(nn.Linear(1000,1000)))\n",
    "        self.outputLayer = nn.Sequential(relu(nn.Linear(1000,_out)))\n",
    "        self.reverseInputLayer = nn.Sequential(relu(nn.Linear(1000,_in)))\n",
    "        self.reverseOutputLayer = nn.Sequential(relu(nn.Linear(_out,1000)))\n",
    "        self.s = nn.Parameter(torch.zeros(1))\n",
    "        self.si = nn.Parameter(torch.zeros(1))\n",
    "        \n",
    "    def forward(self,x):\n",
    "        x1,x2 = self.split(x)\n",
    "        h1_1 = x1\n",
    "        h1_2 = x2 + self.inputLayer(x1)\n",
    "        #\n",
    "        h2_1 = h1_2\n",
    "        h2_2 = h1_1 + self.hiddenLayer(x2)\n",
    "        #\n",
    "        h3_1 = h2_1\n",
    "        h3_2 = h2_2 + self.hiddenLayer(x1)\n",
    "        #\n",
    "        h4_1 = h3_2\n",
    "        h4_2 = h3_1 + self.outputLayer(x2)\n",
    "        #\n",
    "        h4 = torch.cat((h4_1,h4_2))\n",
    "        h = torch.exp(self.s)*h4\n",
    "        return h\n",
    "    \n",
    "    def backward(self,y):\n",
    "        y1,y2 = self.split(y)\n",
    "        x1_1 = y1\n",
    "        x1_2 = y2 - self.reverseInputLayer(y1)\n",
    "        # \n",
    "        x2_1 = x1_2\n",
    "        x2_2 = x1_1 - self.hiddenLayer(y2)\n",
    "        #\n",
    "        x3_1 = x2_1\n",
    "        x3_2 = x2_2 - self.hiddenLayer(y1)\n",
    "        #\n",
    "        x4_1 = x3_2\n",
    "        x4_2 = x3_1 - self.hiddenLayer(y2)\n",
    "        #\n",
    "        h4 = torch.cat((x4_1,x4_2))\n",
    "        h = torch.exp(self.si)*h4"
   ]
  },
  {
   "cell_type": "code",
   "execution_count": null,
   "metadata": {},
   "outputs": [],
   "source": []
  }
 ],
 "metadata": {
  "kernelspec": {
   "display_name": "Python 3",
   "language": "python",
   "name": "python3"
  },
  "language_info": {
   "codemirror_mode": {
    "name": "ipython",
    "version": 3
   },
   "file_extension": ".py",
   "mimetype": "text/x-python",
   "name": "python",
   "nbconvert_exporter": "python",
   "pygments_lexer": "ipython3",
   "version": "3.7.5"
  }
 },
 "nbformat": 4,
 "nbformat_minor": 4
}
